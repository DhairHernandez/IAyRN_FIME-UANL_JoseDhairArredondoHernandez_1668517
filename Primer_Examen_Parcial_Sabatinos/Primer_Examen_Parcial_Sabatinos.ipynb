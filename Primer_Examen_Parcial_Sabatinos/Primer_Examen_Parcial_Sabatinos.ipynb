{
  "nbformat": 4,
  "nbformat_minor": 0,
  "metadata": {
    "colab": {
      "name": "Primer_Examen_Parcial_Sabatinos.ipynb",
      "provenance": [],
      "collapsed_sections": []
    },
    "kernelspec": {
      "name": "python3",
      "display_name": "Python 3"
    },
    "language_info": {
      "name": "python"
    }
  },
  "cells": [
    {
      "cell_type": "markdown",
      "metadata": {
        "id": "CNZUGdmHKVTN"
      },
      "source": [
        "# Primer examen parcial sabatinos IAyRN\n",
        "Alumno: José Dhair Arredondo Hernández\n",
        "\n",
        "Matricula: 1668517 Hora clase: N1 a N3\n",
        "\n",
        "\n",
        "---"
      ]
    },
    {
      "cell_type": "markdown",
      "metadata": {
        "id": "eQYkONz0Kn63"
      },
      "source": [
        "*   > **Problema:**\n",
        "Desarrollar un código en python que resuelva lo siguiente:\n",
        "El usuario dará un número al azar y el código calculará la suma de todos los números desde el 1 hasta el número dado por el usuario.\n",
        "Ejemplo: el usuario dió el número 4, el código deberá de dar como resultado 10."
      ]
    },
    {
      "cell_type": "code",
      "metadata": {
        "id": "1_1gfnGoJRqA"
      },
      "source": [
        "Num = float(input(\"Ingresa un numero: \"))\n",
        "suma = 0\n",
        "while Num > 0:\n",
        "  suma = suma + Num\n",
        "  Num -= 1\n",
        "\n",
        "print(\"La suma de todos los numeros desde el 1 hasta el numero que ingresaste es: {}\" .format(suma))"
      ],
      "execution_count": null,
      "outputs": []
    }
  ]
}