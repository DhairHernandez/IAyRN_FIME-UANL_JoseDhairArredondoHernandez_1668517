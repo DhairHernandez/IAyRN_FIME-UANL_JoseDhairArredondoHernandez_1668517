{
  "nbformat": 4,
  "nbformat_minor": 0,
  "metadata": {
    "colab": {
      "name": "IA_Ejercicio2_JoseDhairArredondoHernandez _1668517.ipynb",
      "provenance": [],
      "collapsed_sections": []
    },
    "kernelspec": {
      "name": "python3",
      "display_name": "Python 3"
    },
    "language_info": {
      "name": "python"
    }
  },
  "cells": [
    {
      "cell_type": "markdown",
      "metadata": {
        "id": "3KzxQEscRJd5"
      },
      "source": [
        "# Actividad 3: Ejercicios Introducción Python, 2da parte\n",
        "Alumno: José Dhair Arredondo Hernández\n",
        "\n",
        "Matricula: 1668517 Hora clase: V1 a V3\n",
        "\n",
        "\n",
        "---"
      ]
    },
    {
      "cell_type": "markdown",
      "metadata": {
        "id": "xnXWq0bfRj4X"
      },
      "source": [
        "*   > **Ejercicio 1:**\n",
        "1.1 Piensa en 7 comidas diferente que te gusten. Implementa un programa que pregunte por las 7 comidas, las almacene en una lista y que posteriermente imprima cada una de ellas utilizando uno de los ciclos comentados en clase. "
      ]
    },
    {
      "cell_type": "code",
      "metadata": {
        "id": "6kmQ4qDfRH3W"
      },
      "source": [
        "#damos de alta 2 variables una para almacenar los datos en modo de lista sin ningun elemento dentro\n",
        "#la segunda una variable igual a 0 que servira como limite\n",
        "lista = []\n",
        "i = 0\n",
        "#para solicitar los datos utilizaremos un \" while \" que vamos a colocar de modo que solo se repita 7 veces\n",
        "while i<7:\n",
        "  #para agrgar elementosa la lista utilizamos el comando \" .append() \" y los datos los solicitamos con el comando \" input() \"\n",
        "  lista.append(input(\"Ingresa tu comida favorita: \"))\n",
        "  i += 1\n",
        "\n",
        "print(\"\\n\")\n",
        "#por ultimo creamos un \" For \" el cual nos servira para imprimir todos los elementos de la lista\n",
        "#le indicaremos que \"x\" sera igual al valor de la variable lista y esta cambiara con cada ciclo mostrando todos los elementos almacenados\n",
        "# con el comando \"print()\" dentro del \"For\" imprimimos \"x\" \n",
        "for x in lista:\n",
        "  print(x)"
      ],
      "execution_count": null,
      "outputs": []
    },
    {
      "cell_type": "markdown",
      "metadata": {
        "id": "3Nmd830EVf-C"
      },
      "source": [
        "1.2 Modifica el ejercicio 1.1 para que imprima cada una de las comidas favoritas junto con una oracición inicial: \"Una de mis comidas favoritas es [comida1]\".  "
      ]
    },
    {
      "cell_type": "code",
      "metadata": {
        "id": "_BdgvajYVkm4"
      },
      "source": [
        "#Como este ejercicio es una modificacion del anterior reutilizaremos las variables junto con el \"While\" para solicitar datos\n",
        "lista = []\n",
        "i = 0\n",
        "while i<7:\n",
        "  lista.append(input(\"Ingresa tu comida favorita: \"))\n",
        "  i += 1\n",
        "\n",
        "print(\"\\n\")\n",
        "#Vamos a cambiar el funcionamiento de nuestro \"For\" vamos a utilizar el comando \"range()\" y con el comando \"len()\"\n",
        "#con esto puede recorrer los elementos de la lista haciendo referencia a su número de índice.\n",
        "for x in range(len(lista)):\n",
        "  #dentro del comando \"print()\" vamos a ingresar la frase que nos solicitan y colocamos corchetes cerrados {}\n",
        "  #esto para poder hacer uso correcto del comando \".format()\" y especificar donde queremos colocar el valor de la varible en la oracion\n",
        "  #imprimimos nuestra lista con respecto a x para que el valor vaya cambiando\n",
        "  print(\"Una de mis comidas favoritas es: {}\".format(lista[x]))"
      ],
      "execution_count": null,
      "outputs": []
    },
    {
      "cell_type": "markdown",
      "metadata": {
        "id": "wpX4I35iZJM0"
      },
      "source": [
        "*   > **Ejercicio 2:**\n",
        "Crear un juego de piedra, papel o tijera de dos jugadores. El programa preguntará por la opción del jugador 1 y la opción del jugador 2 y dará como resultado quien ganó el juego. "
      ]
    },
    {
      "cell_type": "code",
      "metadata": {
        "id": "509EdQioZiLx"
      },
      "source": [
        "x = 0\n",
        "#Primero debemos preguntar por la opcion que elegiran los jugadores y guardarlas en variables distintas\n",
        "#Utilizaremos un \"While\" para limitar a que el jugador solamente pueda ingresar alguna las 3 opciones que te da el juego\n",
        "#de lo contrario no podra avanzar en el juego esto es importante para de este modo controlar que nadie coloque alguna opcion erronea\n",
        "while x == 0:\n",
        "  Jug1 = input(\"Jugador 1 ingresa tu opcion (debes escribir alguna de estas opciones: piedra, papel o tijera): \")\n",
        "  if Jug1 == \"piedra\" or Jug1 == \"papel\" or Jug1 == \"tijera\":\n",
        "    x = 1\n",
        "\n",
        "x = 0\n",
        "while x == 0:\n",
        "  Jug2 = input(\"Jugador 2 ingresa tu opcion (debes escribir alguna de estas opciones: piedra, papel o tijera): \")\n",
        "  if Jug2 == \"piedra\" or Jug2 == \"papel\" or Jug2 == \"tijera\":\n",
        "    x = 1\n",
        "\n",
        "#Una vez que tengamos la opcion de cada jugador hay que hacer una comparacion de los resultados, esto debemos hacerlo utilizando\n",
        "#el comando \"if\", el comando \"elif\" y el comando \"else\"\n",
        "#yo elegi 4 sentencias de evaluacion la primera es evaluar si ambas opciones de los jugadores son iguales en caso de serlo el resultado sera un empate\n",
        "if Jug1 == Jug2:\n",
        "  print(\"El resultado fue un empate\")\n",
        "#De aqui en adelante hay que evaluar las 3 opciones en las que el jugador 1 puede ganarle al jugador 2 comparando sus repuestas por medio de un \"AND\"\n",
        "#Tomando en cuenta las reglas del juego: piedra gana a la tijera, tijera le gana al papel y el papel le gana a la piedra\n",
        "elif Jug1 == \"piedra\" and Jug2 == \"tijera\":\n",
        "  print(\"jugador 1 es el ganador\")\n",
        "\n",
        "elif Jug1 == \"tijera\" and Jug2 == \"papel\":\n",
        "  print(\"jugador 1 es el ganador\")\n",
        "\n",
        "elif Jug1 == \"papel\" and Jug2 == \"piedra\":\n",
        "  print(\"jugador 1 es el ganador\")\n",
        "#Una vez que evaluemos las 3 opciones en las que el jugador 1 puede ganar solo nos queda colocar un \"Else\" indicando que el ganador es el jugador 2\n",
        "else:\n",
        "  print(\"jugador 2 es el ganador\")"
      ],
      "execution_count": null,
      "outputs": []
    },
    {
      "cell_type": "markdown",
      "metadata": {
        "id": "fWjVwydadBVW"
      },
      "source": [
        "*   > **Ejercicio 2:**\n",
        "Implementar un programa que imprima el siguiente patron:\n",
        "\n",
        "123456\n",
        "\n",
        "12345\n",
        "\n",
        "1234\n",
        "\n",
        "123\n",
        "\n",
        "12\n",
        "\n",
        "1\n",
        "\n",
        "12\n",
        "\n",
        "123\n",
        "\n",
        "1234\n",
        "\n",
        "12345\n",
        "\n",
        "123456"
      ]
    },
    {
      "cell_type": "code",
      "metadata": {
        "id": "PKP6EX_6r-c2"
      },
      "source": [
        "#Vamos a Crear una variable que controle el ciclo \"While\" que sera \"x\" y 6 variables del tipo \"str()\" para los primeros 6 niveles del patron \n",
        "x = 1\n",
        "y = str()\n",
        "a = str()\n",
        "b = str()\n",
        "c = str()\n",
        "d = str()\n",
        "e = str()\n",
        "#Colocamos nuestro \"While\" de modo que se repita solamente 6 veces\n",
        "while x<7:\n",
        "  #Crearemos una variable tipo \"str()\" que almacenara el valor temporal de \"x\" en cada vuelta que hara el ciclo esta variable sera \"txt\"\n",
        "  txt = str(x)\n",
        "  #la primer varieble tipo \"srt()\" la vamos a igualar a si misma y la concatenamos con \"txt\" la variable que almacena el valor temporal de \"x\" \n",
        "  y = y + txt\n",
        "  #Aumentamos el valor de x en 1\n",
        "  x += 1\n",
        "  #Con esto ya tendriamos generado el primer nivel del patron\n",
        "  #Vamos a utilizar 5 veces el comando \"if\" para crear los demas niveles del patron\n",
        "  #Cada \"if\" evaluara lo mismo que el \"While\" la variable \"x\" pero disminuyendo en 1 el valor con el que comparamos\n",
        "  #de modo que empezaremos evaluando \"x<7\" en el primer \"if\" y el segundo evaluamos \"x<6\" y en el tercero evaluamos \"x<5\"\n",
        "  #asi hasta terminar los 5 niveles restantes\n",
        "  if x<7:\n",
        "    #Dentro de cada if vamos a utilizar otra de las variables tipo \"srt()\" la vamosa  igual a si misma y la concatenamos con \"txt\"\n",
        "    #la variable que almacena el valor temporal de \"x\"\n",
        "    a = a + txt\n",
        "  if x<6:\n",
        "    b = b + txt\n",
        "  if x<5:\n",
        "    c = c + txt\n",
        "  if x<4:\n",
        "    d = d + txt\n",
        "  if x<3:\n",
        "    e = e + txt\n",
        "\n",
        "#para finalizar utilizamos el comando \"print()\" y concatenamos las variables que almacenan cada nivel del patron,\n",
        "#para poder concatenarlas todas en un solo \"print()\" debemos concatenarlas con lo siguiente \"\\n\" esto nos permite pasar un renglon dentro del \"print()\"\n",
        "print(y + \"\\n\" + a + \"\\n\" + b + \"\\n\" + c + \"\\n\" + d + \"\\n\" + e + \"\\n\" + d + \"\\n\" + c + \"\\n\" + b + \"\\n\" + a + \"\\n\" + y)\n"
      ],
      "execution_count": null,
      "outputs": []
    }
  ]
}