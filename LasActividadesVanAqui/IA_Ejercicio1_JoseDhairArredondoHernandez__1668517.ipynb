{
  "nbformat": 4,
  "nbformat_minor": 0,
  "metadata": {
    "colab": {
      "name": "IA_Ejercicio1_JoseDhairArredondoHernandez _1668517.ipynb",
      "provenance": [],
      "collapsed_sections": []
    },
    "kernelspec": {
      "name": "python3",
      "display_name": "Python 3"
    },
    "language_info": {
      "name": "python"
    }
  },
  "cells": [
    {
      "cell_type": "markdown",
      "metadata": {
        "id": "BfoUW-t82b2h"
      },
      "source": [
        "# Actividad 2: Ejercicios Introducción Python.\n",
        "Alumno: José Dhair Arredondo Hernández\n",
        "\n",
        "Matricula: 1668517 Hora clase: V1 a V3\n",
        "\n",
        "\n",
        "---\n",
        "\n"
      ]
    },
    {
      "cell_type": "markdown",
      "metadata": {
        "id": "AZ-Efot6_0iN"
      },
      "source": [
        "*   > **Ejercicio 1:**\n",
        "Crear un programa que pregunte al usuario por su nombre, edad, una frase favorita y autor de la frase favorita. El programa deberá de imprimir un mensaje compuesto por el nombre y edad del usuario diciendo que su frase favorita es la que dió anteriormente y el autor de dicha frase es el nombre previamente dado. Aquí habrá que realizar una concatenación de variables."
      ]
    },
    {
      "cell_type": "code",
      "metadata": {
        "id": "okQ-iH084YiX"
      },
      "source": [
        "#Vamos a solicitar los 4 datos que nos pide la redaccion del problema\n",
        "#por medio del comando \" input \" y los vamos a guardar cada uno en variables distintas\n",
        "#se recomienda que las variables tengan nombres que esten relacionado a lo que se pregunta para identificarlas mejor \n",
        "nombre = input(\"¿Cual es tu nombre? \")\n",
        "edad = input(\"¿Cual es tu edad? \")\n",
        "frasefav = input(\"¿Cual tu frase favorita? \")\n",
        "autorfrase = input(\"¿Quien fue el autor de tu frase favorita? \")\n",
        "#una vez solicitados los 4 datos hay que hacer una impresion de los mismos por medio del comando \" print \"\n",
        "#vamos a estar concatenando cada variable con el texto que le da formato por medio del simbolo de \" + \". \n",
        "#de este modo podemos imprimir la frase utilizando un solo comando de \" print \"\n",
        "print(\"Tu nombre es \" + nombre + \", tienes \" + edad + \" años de edad \" + \", tu frase favorita es: \" + \"'\" + frasefav + \"'\" + \" y el autor de esta frase fue: \" + autorfrase)\n"
      ],
      "execution_count": null,
      "outputs": []
    },
    {
      "cell_type": "markdown",
      "metadata": {
        "id": "35OFBkj7A15A"
      },
      "source": [
        "*   > **Ejercicio 2:**\n",
        "Crear un programa que le pida al usuario capturar dos números enteros y dos números flotantes. Después, realizará la suma, resta, multiplicación y división, de ambos pares de números. Como resultado se deberán de obtener 8 valores. Imprimir todos estos reultados."
      ]
    },
    {
      "cell_type": "code",
      "metadata": {
        "id": "AFMQv_IBA7Uj"
      },
      "source": [
        "#Vamos a solicitar primero los 2 numeros enteros por medio del comando \" input() \" y guardar cada uno en una variable distinta\n",
        "#al momento de solicitar el dato hay que indicar que dicho dato debe ser entero por medio del comando \" int \"\n",
        "x = int(input(\"Ingresa un numero entero: \"))\n",
        "y = int(input(\"Ingresa otro numero entero: \"))\n",
        "#vamos a crear una variable con un texto que indique la operacion que se esta generando\n",
        "#vamos a colocar unos corchetes cerrados \" {} \" al final de la oracion esto indicara al comando \" print() \"\n",
        "# que dentro de los corchetes colocara un dato seleccionado\n",
        "txt = \"\\nLa suma de los numeros enteros es: {}\"\n",
        "#utilizamos el comando \" print \" e imprimimos nuestra variable con el texto agregando\n",
        "#el comando \" .format() \" este comando nos permitira concatenar valores que no son de tipo \" string \"\n",
        "#y aprovechando que Python permite que dentro del mismo comando \" print() \" se pueden realizar operaciones basicas\n",
        "#vamos a realizar ahi mismo la operacion solicitada, esto nos ahorrara el dar de alta una variable extra para la operacion deseada\n",
        "#estos pasos los repetimos hasta terminar de genearar todas las operaciones con los numeros enteros\n",
        "print(txt.format(x + y))\n",
        "txt = \"La resta de los numeros enteros es: {}\"\n",
        "print(txt.format(x - y))\n",
        "txt = \"La multiplicacion de los numeros enteros es: {}\"\n",
        "print(txt.format(x * y))\n",
        "txt = \"La division de los enteros es: {}\"\n",
        "print(txt.format(x / y))\n",
        "#una vez finalizadas las operaciones con los numeros enteros hay que solicitar los 2 numeros decimales\n",
        "#para ello vamos a utilizar otra vez el comando \" input() \" y guardar cada uno en una variable distinta\n",
        "#podemos reutilizar las mismas variables que usamos para los numeros enteros\n",
        "#al momento de solicitar el dato hay que indicar que dicho dato debe ser decimal por medio del comando \" float \"\n",
        "x = float(input(\"\\nIngresa un numero decimal: \"))\n",
        "y = float(input(\"Ingresa otro numero decimal: \"))\n",
        "#una vez solicitados los numeros hay que repetir los pasos que generamos para las operaciones de los numeros enteros\n",
        "#vamos a crear una variable con un texto que indique la operacion que se esta generando\n",
        "#y dentro del mismo comanto \" print() \" vamos a imprimir la variable con el texto y generamos la operacion correspondiente\n",
        "#nuvamente estos pasos los repetimos hasta terminar de genearar todas las operaciones con los numeros decimales\n",
        "txt = \"\\nLa suma de los numeros decimales es: {}\"\n",
        "print(txt.format(x + y))\n",
        "txt = \"La resta de los numeros decimales es: {}\"\n",
        "print(txt.format(x - y))\n",
        "txt = \"La multiplicacion de los numeros decimales es: {}\"\n",
        "print(txt.format(x * y))\n",
        "txt = \"La division de los decimales es: {}\"\n",
        "print(txt.format(x / y))"
      ],
      "execution_count": null,
      "outputs": []
    },
    {
      "cell_type": "markdown",
      "metadata": {
        "id": "9NWUi44aVoIM"
      },
      "source": [
        "*   > **Ejercicio 3:**\n",
        "Crear un programa que evalúe dos expresiones lógicas con `and`, dos con `or` y dos con `not`. Cada expresión deberá hacer uso de operadores de comparación."
      ]
    },
    {
      "cell_type": "code",
      "metadata": {
        "id": "JaPF6Y22VkDh"
      },
      "source": [
        "#Damos de ana variable la cual iremos modificando su valor para ver como funcionan los operadores \"and\", \"or\" y \"not\"\n",
        "x = 6\n",
        "#Dentro del print colocamos nuestro operador \"and\" y realizamos la comparacion del valor de la variable con otros datos para ver si es verdadero\n",
        "print(x > 5 and x < 10)\n",
        "#modificamos el valor de la variable\n",
        "x = 87\n",
        "print(x > 46 and x < 98)\n",
        "#modificamos el valor de la variable\n",
        "x = 7\n",
        "#Dentro del print colocamos nuestro operador \"or\" y realizamos la comparacion del valor de la variable con otros datos para ver si es verdadero\n",
        "print(x > 2 or x < 8)\n",
        "#modificamos el valor de la variable\n",
        "x = 93\n",
        "print(x > 65 or x < 72)\n",
        "#modificamos el valor de la variable\n",
        "x = 4\n",
        "#Dentro del print colocamos nuestro operador \"not()\" y realizamos la comparacion del valor de la variable con otros datos para ver si es verdadero\n",
        "print(not(x > 2 and x < 9))\n",
        "#modificamos el valor de la variable\n",
        "x = 50\n",
        "print(not(x > 25 and x < 93))"
      ],
      "execution_count": null,
      "outputs": []
    },
    {
      "cell_type": "markdown",
      "metadata": {
        "id": "9JtD1D13YdlZ"
      },
      "source": [
        ""
      ]
    }
  ]
}